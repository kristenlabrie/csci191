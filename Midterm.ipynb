{
 "cells": [
  {
   "cell_type": "code",
   "execution_count": 8,
   "metadata": {
    "collapsed": true
   },
   "outputs": [],
   "source": [
    "%matplotlib inline"
   ]
  },
  {
   "cell_type": "code",
   "execution_count": 9,
   "metadata": {},
   "outputs": [],
   "source": [
    "import matplotlib.pyplot as plt\n",
    "import math"
   ]
  },
  {
   "cell_type": "code",
   "execution_count": 29,
   "metadata": {
    "collapsed": true
   },
   "outputs": [],
   "source": [
    "sample = [ (1.56, 1.55), (0.88, 1.95), (0.25, 1.07),\n",
    "\n",
    " (2.28, 0.76),  (2.89, 1.61),  (2.84, 0.36), (0.51, 2.78), (0.05, 1.60),\n",
    "\n",
    " (2.65, 2.43), (2.82, 1.77), (3.75 , 9.51),  (7.32 , 5.99),  (0.58 , 8.66),\n",
    "\n",
    "    (6.01 , 7.08),  (0.21 , 9.70),  (8.32 , 2.12),  (3.04 , 5.25),\n",
    "\n",
    "    (4.32 , 2.91),  (6.12 , 1.39),  (2.92 , 3.66),  (4.56 , 7.85),\n",
    "\n",
    "    (2.00 , 5.14),  (5.92 , 0.46),  (6.08 , 1.71),  (0.65 , 9.49),\n",
    "\n",
    "    (9.66 , 8.08),  (3.05 , 0.98),  (6.84 , 4.40),  (1.22 , 4.95),\n",
    "\n",
    "    (0.34 , 9.09)]\n",
    "\n",
    "\n",
    "\n",
    "positive = [ (1.56, 1.55), (0.88, 1.95), (0.25, 1.07),\n",
    "\n",
    " (2.28, 0.76),  (2.89, 1.61),  (2.84, 0.36), (0.51, 2.78), (0.05, 1.60),\n",
    "\n",
    " (2.65, 2.43), (2.82, 1.77)]\n",
    "\n",
    "\n",
    "\n",
    "negative = [(3.75 , 9.51),  (7.32 , 5.99),  (0.58 , 8.66),\n",
    "\n",
    "    (6.01 , 7.08),  (0.21 , 9.70),  (8.32 , 2.12),  (3.04 , 5.25),\n",
    "\n",
    "    (4.32 , 2.91),  (6.12 , 1.39),  (2.92 , 3.66),  (4.56 , 7.85),\n",
    "\n",
    "    (2.00 , 5.14),  (5.92 , 0.46),  (6.08 , 1.71),  (0.65 , 9.49),\n",
    "\n",
    "    (9.66 , 8.08),  (3.05 , 0.98),  (6.84 , 4.40),  (1.22 , 4.95),\n",
    "\n",
    "    (0.34 , 9.09)]"
   ]
  },
  {
   "cell_type": "code",
   "execution_count": 13,
   "metadata": {
    "collapsed": true
   },
   "outputs": [],
   "source": [
    "def entropy(L):\n",
    "    outentropy = 0.0\n",
    "    for prob in L:\n",
    "        if not prob:\n",
    "            continue\n",
    "        outentropy += prob * math.log(prob,2)\n",
    "    return -1 * outentropy\n",
    "                                "
   ]
  },
  {
   "cell_type": "code",
   "execution_count": 23,
   "metadata": {
    "collapsed": true
   },
   "outputs": [],
   "source": [
    "def expectedpurity(L, PurityFN):\n",
    "    outpurity = popsize = 0.0\n",
    "    for l in L:\n",
    "        samsize = sum(l)\n",
    "        popsize += samsize\n",
    "        outpurity += samsize * PurityFN([sample/float(samsize) for sample in l])\n",
    "    return outpurity/popsize"
   ]
  },
  {
   "cell_type": "code",
   "execution_count": 24,
   "metadata": {},
   "outputs": [
    {
     "data": {
      "text/plain": [
       "0.7640291601504497"
      ]
     },
     "execution_count": 24,
     "metadata": {},
     "output_type": "execute_result"
    }
   ],
   "source": [
    "expectedpurity(sample, entropy)"
   ]
  },
  {
   "cell_type": "code",
   "execution_count": 27,
   "metadata": {},
   "outputs": [],
   "source": [
    "def gini(L):\n",
    "    outgini = 0.0\n",
    "    for prob in L:\n",
    "        outgini += prob * (1-prob)\n",
    "    return outgini"
   ]
  },
  {
   "cell_type": "code",
   "execution_count": 28,
   "metadata": {},
   "outputs": [
    {
     "data": {
      "text/plain": [
       "0.3595429471534092"
      ]
     },
     "execution_count": 28,
     "metadata": {},
     "output_type": "execute_result"
    }
   ],
   "source": [
    "expectedpurity(sample, gini)"
   ]
  },
  {
   "cell_type": "code",
   "execution_count": 31,
   "metadata": {},
   "outputs": [
    {
     "name": "stdout",
     "output_type": "stream",
     "text": [
      "0.82022402856\n"
     ]
    }
   ],
   "source": [
    "positiveentropy = expectedpurity(positive, entropy)\n",
    "print(positiveentropy)"
   ]
  },
  {
   "cell_type": "code",
   "execution_count": 32,
   "metadata": {},
   "outputs": [
    {
     "name": "stdout",
     "output_type": "stream",
     "text": [
      "0.754451390544\n"
     ]
    }
   ],
   "source": [
    "negativeentropy = expectedpurity(negative, entropy)\n",
    "print(negativeentropy)"
   ]
  },
  {
   "cell_type": "code",
   "execution_count": 33,
   "metadata": {},
   "outputs": [
    {
     "ename": "TypeError",
     "evalue": "unsupported operand type(s) for +: 'int' and 'tuple'",
     "output_type": "error",
     "traceback": [
      "\u001b[1;31m---------------------------------------------------------------------------\u001b[0m",
      "\u001b[1;31mTypeError\u001b[0m                                 Traceback (most recent call last)",
      "\u001b[1;32m<ipython-input-33-6eeefd2baccd>\u001b[0m in \u001b[0;36m<module>\u001b[1;34m()\u001b[0m\n\u001b[1;32m----> 1\u001b[1;33m \u001b[0mentropysplit\u001b[0m \u001b[1;33m=\u001b[0m \u001b[0mpositiveentropy\u001b[0m\u001b[1;33m*\u001b[0m\u001b[1;33m(\u001b[0m\u001b[0msum\u001b[0m\u001b[1;33m(\u001b[0m\u001b[0mpositive\u001b[0m\u001b[1;33m)\u001b[0m\u001b[1;33m/\u001b[0m\u001b[0msum\u001b[0m\u001b[1;33m(\u001b[0m\u001b[0msample\u001b[0m\u001b[1;33m)\u001b[0m\u001b[1;33m)\u001b[0m\u001b[1;33m+\u001b[0m\u001b[0mnegativeentropy\u001b[0m\u001b[1;33m*\u001b[0m\u001b[1;33m(\u001b[0m\u001b[0msum\u001b[0m\u001b[1;33m(\u001b[0m\u001b[0mnegative\u001b[0m\u001b[1;33m)\u001b[0m\u001b[1;33m/\u001b[0m\u001b[0msum\u001b[0m\u001b[1;33m(\u001b[0m\u001b[0msample\u001b[0m\u001b[1;33m)\u001b[0m\u001b[1;33m)\u001b[0m\u001b[1;33m\u001b[0m\u001b[0m\n\u001b[0m\u001b[0;32m      2\u001b[0m \u001b[1;32mprint\u001b[0m \u001b[1;33m(\u001b[0m\u001b[0mentropysplit\u001b[0m\u001b[1;33m)\u001b[0m\u001b[1;33m\u001b[0m\u001b[0m\n\u001b[0;32m      3\u001b[0m \u001b[1;32mprint\u001b[0m \u001b[1;33m(\u001b[0m\u001b[1;34m\"Information Gain = \"\u001b[0m\u001b[1;33m,\u001b[0m \u001b[1;33m(\u001b[0m\u001b[0mexpectedpurity\u001b[0m\u001b[1;33m(\u001b[0m\u001b[0msample\u001b[0m\u001b[1;33m,\u001b[0m \u001b[0mentropy\u001b[0m\u001b[1;33m)\u001b[0m\u001b[1;33m)\u001b[0m \u001b[1;33m-\u001b[0m \u001b[0mentropysplit\u001b[0m\u001b[1;33m)\u001b[0m\u001b[1;33m\u001b[0m\u001b[0m\n",
      "\u001b[1;31mTypeError\u001b[0m: unsupported operand type(s) for +: 'int' and 'tuple'"
     ]
    }
   ],
   "source": [
    "entropysplit = positiveentropy*(sum(positive)/sum(sample))+negativeentropy*(sum(negative)/sum(sample))\n",
    "print (entropysplit)\n",
    "print (\"Information Gain = \", (expectedpurity(sample, entropy)) - entropysplit)"
   ]
  },
  {
   "cell_type": "code",
   "execution_count": null,
   "metadata": {
    "collapsed": true
   },
   "outputs": [],
   "source": []
  }
 ],
 "metadata": {
  "kernelspec": {
   "display_name": "Python 2",
   "language": "python",
   "name": "python2"
  },
  "language_info": {
   "codemirror_mode": {
    "name": "ipython",
    "version": 2
   },
   "file_extension": ".py",
   "mimetype": "text/x-python",
   "name": "python",
   "nbconvert_exporter": "python",
   "pygments_lexer": "ipython2",
   "version": "2.7.14"
  }
 },
 "nbformat": 4,
 "nbformat_minor": 2
}
